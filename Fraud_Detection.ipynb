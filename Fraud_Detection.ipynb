{
  "cells": [
    {
      "cell_type": "markdown",
      "metadata": {
        "id": "view-in-github",
        "colab_type": "text"
      },
      "source": [
        "<a href=\"https://colab.research.google.com/github/Sujangauchan/Getting-into-clustering-or-cluster-analysis/blob/main/Fraud_Detection.ipynb\" target=\"_parent\"><img src=\"https://colab.research.google.com/assets/colab-badge.svg\" alt=\"Open In Colab\"/></a>"
      ]
    },
    {
      "cell_type": "code",
      "execution_count": null,
      "id": "310cf188",
      "metadata": {
        "scrolled": true,
        "colab": {
          "base_uri": "https://localhost:8080/"
        },
        "id": "310cf188",
        "outputId": "dab3d1fc-e103-42d6-bef5-4413770e11b8"
      },
      "outputs": [
        {
          "output_type": "stream",
          "name": "stdout",
          "text": [
            "(351564, 394)\n",
            "<class 'pandas.core.frame.DataFrame'>\n",
            "Index: 351564 entries, 0 to 173978\n",
            "Columns: 394 entries, TransactionID to isFraud\n",
            "dtypes: float64(377), int64(3), object(14)\n",
            "memory usage: 1.0+ GB\n",
            "None\n"
          ]
        }
      ],
      "source": [
        "import pandas as pd\n",
        "import numpy as np\n",
        "import matplotlib.pyplot as plt\n",
        "from google.colab import files\n",
        "\n",
        "\n",
        "\n",
        "# Specify the file path\n",
        "test_transaction = pd.read_csv('/home/test_transaction.csv')\n",
        "test_identity = pd.read_csv('/home/test_identity.csv')\n",
        "train_transaction = pd.read_csv('/home/train_transaction.csv')\n",
        "train_identity = pd.read_csv('/home/train_identity.csv')\n",
        "\n",
        "all_transaction= pd.concat([test_transaction,train_transaction],axis=0)\n",
        "\n",
        "\n",
        "\n",
        "print(all_transaction.shape)\n",
        "print(all_transaction.info())\n"
      ]
    },
    {
      "cell_type": "code",
      "source": [],
      "metadata": {
        "id": "AnhilINaT_TO"
      },
      "id": "AnhilINaT_TO",
      "execution_count": null,
      "outputs": []
    },
    {
      "cell_type": "code",
      "source": [
        "from google.colab import drive\n",
        "drive.mount('/content/drive')"
      ],
      "metadata": {
        "colab": {
          "base_uri": "https://localhost:8080/"
        },
        "id": "sZoJkq9CMyKQ",
        "outputId": "0e1c4c98-1f7f-419f-90c4-f16d08778f66"
      },
      "id": "sZoJkq9CMyKQ",
      "execution_count": null,
      "outputs": [
        {
          "output_type": "stream",
          "name": "stdout",
          "text": [
            "Mounted at /content/drive\n"
          ]
        }
      ]
    },
    {
      "cell_type": "code",
      "execution_count": null,
      "id": "b4869175",
      "metadata": {
        "scrolled": true,
        "colab": {
          "base_uri": "https://localhost:8080/"
        },
        "id": "b4869175",
        "outputId": "ce4a1bf7-740e-43ae-83f7-d4877deb6125"
      },
      "outputs": [
        {
          "output_type": "stream",
          "name": "stdout",
          "text": [
            "   TransactionID  TransactionDT  TransactionAmt ProductCD  card1  card2  \\\n",
            "0        3663549       18403224           31.95         W  10409  111.0   \n",
            "1        3663550       18403263           49.00         W   4272  111.0   \n",
            "2        3663551       18403310          171.00         W   4476  574.0   \n",
            "3        3663552       18403310          284.95         W  10989  360.0   \n",
            "4        3663553       18403317           67.95         W  18018  452.0   \n",
            "\n",
            "   card3       card4  card5  card6  ...  V331  V332  V333  V334 V335 V336  \\\n",
            "0  150.0        visa  226.0  debit  ...   NaN   NaN   NaN   NaN  NaN  NaN   \n",
            "1  150.0        visa  226.0  debit  ...   NaN   NaN   NaN   NaN  NaN  NaN   \n",
            "2  150.0        visa  226.0  debit  ...   NaN   NaN   NaN   NaN  NaN  NaN   \n",
            "3  150.0        visa  166.0  debit  ...   NaN   NaN   NaN   NaN  NaN  NaN   \n",
            "4  150.0  mastercard  117.0  debit  ...   NaN   NaN   NaN   NaN  NaN  NaN   \n",
            "\n",
            "   V337  V338  V339  isFraud  \n",
            "0   NaN   NaN   NaN      NaN  \n",
            "1   NaN   NaN   NaN      NaN  \n",
            "2   NaN   NaN   NaN      NaN  \n",
            "3   NaN   NaN   NaN      NaN  \n",
            "4   NaN   NaN   NaN      NaN  \n",
            "\n",
            "[5 rows x 394 columns]\n"
          ]
        }
      ],
      "source": [
        "print(all_transaction.head())\n"
      ]
    },
    {
      "cell_type": "code",
      "execution_count": null,
      "id": "69426112",
      "metadata": {
        "scrolled": true,
        "colab": {
          "base_uri": "https://localhost:8080/"
        },
        "id": "69426112",
        "outputId": "021ac667-0020-49d1-b4c6-a6abb1346a80"
      },
      "outputs": [
        {
          "output_type": "stream",
          "name": "stdout",
          "text": [
            "(140342, 394)\n",
            "(70693, 393)\n",
            "(69649, 394)\n"
          ]
        }
      ],
      "source": [
        "print(all_transaction.shape)\n",
        "print(test_transaction.shape)\n",
        "print(train_transaction.shape)"
      ]
    },
    {
      "cell_type": "code",
      "execution_count": null,
      "id": "491cfc1d",
      "metadata": {
        "scrolled": true,
        "colab": {
          "base_uri": "https://localhost:8080/"
        },
        "id": "491cfc1d",
        "outputId": "7dacbde8-fa09-47df-c5ed-271563ec38df"
      },
      "outputs": [
        {
          "output_type": "stream",
          "name": "stdout",
          "text": [
            "<bound method NDFrame.describe of        TransactionID  TransactionDT  TransactionAmt ProductCD  card1  card2  \\\n",
            "0            3663549       18403224          31.950         W  10409  111.0   \n",
            "1            3663550       18403263          49.000         W   4272  111.0   \n",
            "2            3663551       18403310         171.000         W   4476  574.0   \n",
            "3            3663552       18403310         284.950         W  10989  360.0   \n",
            "4            3663553       18403317          67.950         W  18018  452.0   \n",
            "...              ...            ...             ...       ...    ...    ...   \n",
            "69644        3056644        1560259         107.950         W  10057  225.0   \n",
            "69645        3056645        1560265           8.978         C   5812  408.0   \n",
            "69646        3056646        1560268          75.000         R   8698  168.0   \n",
            "69647        3056647        1560278          50.000         H  11106  100.0   \n",
            "69648        3056648        1560283          18.656         C   3154  408.0   \n",
            "\n",
            "       card3       card4  card5   card6  ...  V331  V332  V333  V334 V335  \\\n",
            "0      150.0        visa  226.0   debit  ...   NaN   NaN   NaN   NaN  NaN   \n",
            "1      150.0        visa  226.0   debit  ...   NaN   NaN   NaN   NaN  NaN   \n",
            "2      150.0        visa  226.0   debit  ...   NaN   NaN   NaN   NaN  NaN   \n",
            "3      150.0        visa  166.0   debit  ...   NaN   NaN   NaN   NaN  NaN   \n",
            "4      150.0  mastercard  117.0   debit  ...   NaN   NaN   NaN   NaN  NaN   \n",
            "...      ...         ...    ...     ...  ...   ...   ...   ...   ...  ...   \n",
            "69644  150.0  mastercard  224.0   debit  ...   NaN   NaN   NaN   NaN  NaN   \n",
            "69645  185.0  mastercard  224.0   debit  ...   NaN   NaN   NaN   NaN  NaN   \n",
            "69646  144.0        visa  226.0  credit  ...   0.0   0.0   0.0   0.0  0.0   \n",
            "69647  150.0        visa  226.0  credit  ...   0.0   0.0   0.0   0.0  0.0   \n",
            "69648  185.0  mastercard  224.0   debit  ...   NaN   NaN   NaN   NaN  NaN   \n",
            "\n",
            "      V336  V337  V338  V339  isFraud  \n",
            "0      NaN   NaN   NaN   NaN      NaN  \n",
            "1      NaN   NaN   NaN   NaN      NaN  \n",
            "2      NaN   NaN   NaN   NaN      NaN  \n",
            "3      NaN   NaN   NaN   NaN      NaN  \n",
            "4      NaN   NaN   NaN   NaN      NaN  \n",
            "...    ...   ...   ...   ...      ...  \n",
            "69644  NaN   NaN   NaN   NaN      0.0  \n",
            "69645  NaN   NaN   NaN   NaN      0.0  \n",
            "69646  0.0   0.0   0.0   0.0      0.0  \n",
            "69647  0.0   0.0   0.0   0.0      0.0  \n",
            "69648  NaN   NaN   NaN   NaN      0.0  \n",
            "\n",
            "[140342 rows x 394 columns]>\n"
          ]
        }
      ],
      "source": [
        "print(all_transaction.describe)"
      ]
    },
    {
      "cell_type": "code",
      "execution_count": null,
      "id": "2c65576c",
      "metadata": {
        "scrolled": true,
        "colab": {
          "base_uri": "https://localhost:8080/"
        },
        "id": "2c65576c",
        "outputId": "589c5111-14bd-4a92-e82e-fe7573fa8111"
      },
      "outputs": [
        {
          "output_type": "execute_result",
          "data": {
            "text/plain": [
              "Index(['TransactionID', 'TransactionDT', 'TransactionAmt', 'ProductCD',\n",
              "       'card1', 'card2', 'card3', 'card4', 'card5', 'card6',\n",
              "       ...\n",
              "       'V331', 'V332', 'V333', 'V334', 'V335', 'V336', 'V337', 'V338', 'V339',\n",
              "       'isFraud'],\n",
              "      dtype='object', length=394)"
            ]
          },
          "metadata": {},
          "execution_count": 10
        }
      ],
      "source": [
        "all_transaction.columns"
      ]
    },
    {
      "cell_type": "code",
      "execution_count": null,
      "id": "55c2c518",
      "metadata": {
        "id": "55c2c518"
      },
      "outputs": [],
      "source": [
        "top_30 = all_transaction[:30]\n",
        "\n",
        "top_30.to_csv(\"top_30.csv\")\n"
      ]
    },
    {
      "cell_type": "code",
      "execution_count": null,
      "id": "ea6733f6",
      "metadata": {
        "colab": {
          "base_uri": "https://localhost:8080/",
          "height": 17
        },
        "id": "ea6733f6",
        "outputId": "78311d2f-5e00-4c29-bff9-128645d324d8"
      },
      "outputs": [
        {
          "output_type": "display_data",
          "data": {
            "text/plain": [
              "<IPython.core.display.Javascript object>"
            ],
            "application/javascript": [
              "\n",
              "    async function download(id, filename, size) {\n",
              "      if (!google.colab.kernel.accessAllowed) {\n",
              "        return;\n",
              "      }\n",
              "      const div = document.createElement('div');\n",
              "      const label = document.createElement('label');\n",
              "      label.textContent = `Downloading \"${filename}\": `;\n",
              "      div.appendChild(label);\n",
              "      const progress = document.createElement('progress');\n",
              "      progress.max = size;\n",
              "      div.appendChild(progress);\n",
              "      document.body.appendChild(div);\n",
              "\n",
              "      const buffers = [];\n",
              "      let downloaded = 0;\n",
              "\n",
              "      const channel = await google.colab.kernel.comms.open(id);\n",
              "      // Send a message to notify the kernel that we're ready.\n",
              "      channel.send({})\n",
              "\n",
              "      for await (const message of channel.messages) {\n",
              "        // Send a message to notify the kernel that we're ready.\n",
              "        channel.send({})\n",
              "        if (message.buffers) {\n",
              "          for (const buffer of message.buffers) {\n",
              "            buffers.push(buffer);\n",
              "            downloaded += buffer.byteLength;\n",
              "            progress.value = downloaded;\n",
              "          }\n",
              "        }\n",
              "      }\n",
              "      const blob = new Blob(buffers, {type: 'application/binary'});\n",
              "      const a = document.createElement('a');\n",
              "      a.href = window.URL.createObjectURL(blob);\n",
              "      a.download = filename;\n",
              "      div.appendChild(a);\n",
              "      a.click();\n",
              "      div.remove();\n",
              "    }\n",
              "  "
            ]
          },
          "metadata": {}
        },
        {
          "output_type": "display_data",
          "data": {
            "text/plain": [
              "<IPython.core.display.Javascript object>"
            ],
            "application/javascript": [
              "download(\"download_49015036-c76a-47e8-8719-e8a864b9361a\", \"top_30.csv\", 34479)"
            ]
          },
          "metadata": {}
        }
      ],
      "source": [
        "files.download(\"top_30.csv\")"
      ]
    }
  ],
  "metadata": {
    "kernelspec": {
      "display_name": "Python 3 (ipykernel)",
      "language": "python",
      "name": "python3"
    },
    "language_info": {
      "codemirror_mode": {
        "name": "ipython",
        "version": 3
      },
      "file_extension": ".py",
      "mimetype": "text/x-python",
      "name": "python",
      "nbconvert_exporter": "python",
      "pygments_lexer": "ipython3",
      "version": "3.10.9"
    },
    "colab": {
      "provenance": [],
      "include_colab_link": true
    }
  },
  "nbformat": 4,
  "nbformat_minor": 5
}